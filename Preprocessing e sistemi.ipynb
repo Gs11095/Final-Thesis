{
 "cells": [
  {
   "cell_type": "code",
   "execution_count": 1,
   "id": "5adeb04a",
   "metadata": {},
   "outputs": [],
   "source": [
    "import numpy as np\n",
    "import pandas as pd\n",
    "import matplotlib.pyplot as plt\n",
    "import seaborn as sns\n",
    "from surprise import Dataset, Reader\n",
    "from surprise import accuracy\n",
    "from surprise.model_selection import train_test_split\n",
    "from surprise.prediction_algorithms import knns\n",
    "from surprise.similarities import cosine,pearson\n",
    "from surprise import accuracy"
   ]
  },
  {
   "cell_type": "code",
   "execution_count": 2,
   "id": "df5a6d9f",
   "metadata": {},
   "outputs": [],
   "source": [
    "#Caricamento dataset\n",
    "song_df_1 = pd.read_csv('triplets_file.csv')\n",
    "song_df_1.columns = ['user_id', 'song_id', 'listen_count']\n",
    "\n",
    "song_df_2 =  pd.read_csv('song_data.csv')\n",
    "song_df_2.drop_duplicates(['song_id'], inplace=True)\n",
    "\n",
    "#Unione dataset\n",
    "df_songs = pd.merge(song_df_1, song_df_2, on=\"song_id\", how=\"left\")"
   ]
  },
  {
   "cell_type": "code",
   "execution_count": 3,
   "id": "c73ee3bf",
   "metadata": {},
   "outputs": [],
   "source": [
    "# Numero canzoni ascoltate da ogni utente\n",
    "user_counts = df_songs.groupby('user_id')['song_id'].count()\n",
    "\n",
    "# Utenti che hanno ascoltato almeno 30 canzoni\n",
    "user_ten_id = user_counts[user_counts > 30].index.to_list()"
   ]
  },
  {
   "cell_type": "code",
   "execution_count": 4,
   "id": "6dc18988",
   "metadata": {},
   "outputs": [],
   "source": [
    "# Numero di utenti che hanno ascoltato ogni canzone\n",
    "song_counts = df_songs.groupby('song_id')['user_id'].count()\n",
    "\n",
    "# Canzoni ascoltate da almeno 500 utenti\n",
    "song_ten_id = song_counts[song_counts > 500].index.to_list()"
   ]
  },
  {
   "cell_type": "code",
   "execution_count": 5,
   "id": "022c4de6",
   "metadata": {},
   "outputs": [
    {
     "data": {
      "text/html": [
       "<div>\n",
       "<style scoped>\n",
       "    .dataframe tbody tr th:only-of-type {\n",
       "        vertical-align: middle;\n",
       "    }\n",
       "\n",
       "    .dataframe tbody tr th {\n",
       "        vertical-align: top;\n",
       "    }\n",
       "\n",
       "    .dataframe thead th {\n",
       "        text-align: right;\n",
       "    }\n",
       "</style>\n",
       "<table border=\"1\" class=\"dataframe\">\n",
       "  <thead>\n",
       "    <tr style=\"text-align: right;\">\n",
       "      <th></th>\n",
       "      <th>user_id</th>\n",
       "      <th>song_id</th>\n",
       "      <th>listen_count</th>\n",
       "      <th>title</th>\n",
       "      <th>release</th>\n",
       "      <th>artist_name</th>\n",
       "      <th>year</th>\n",
       "    </tr>\n",
       "  </thead>\n",
       "  <tbody>\n",
       "    <tr>\n",
       "      <th>0</th>\n",
       "      <td>b80344d063b5ccb3212f76538f3d9e43d87dca9e</td>\n",
       "      <td>SOBXHDL12A81C204C0</td>\n",
       "      <td>1</td>\n",
       "      <td>Stronger</td>\n",
       "      <td>Graduation</td>\n",
       "      <td>Kanye West</td>\n",
       "      <td>2007</td>\n",
       "    </tr>\n",
       "    <tr>\n",
       "      <th>1</th>\n",
       "      <td>b80344d063b5ccb3212f76538f3d9e43d87dca9e</td>\n",
       "      <td>SOBYHAJ12A6701BF1D</td>\n",
       "      <td>1</td>\n",
       "      <td>Constellations</td>\n",
       "      <td>In Between Dreams</td>\n",
       "      <td>Jack Johnson</td>\n",
       "      <td>2005</td>\n",
       "    </tr>\n",
       "    <tr>\n",
       "      <th>2</th>\n",
       "      <td>b80344d063b5ccb3212f76538f3d9e43d87dca9e</td>\n",
       "      <td>SODACBL12A8C13C273</td>\n",
       "      <td>1</td>\n",
       "      <td>Learn To Fly</td>\n",
       "      <td>There Is Nothing Left To Lose</td>\n",
       "      <td>Foo Fighters</td>\n",
       "      <td>1999</td>\n",
       "    </tr>\n",
       "    <tr>\n",
       "      <th>3</th>\n",
       "      <td>b80344d063b5ccb3212f76538f3d9e43d87dca9e</td>\n",
       "      <td>SODXRTY12AB0180F3B</td>\n",
       "      <td>1</td>\n",
       "      <td>Paper Gangsta</td>\n",
       "      <td>The Fame Monster</td>\n",
       "      <td>Lady GaGa</td>\n",
       "      <td>2008</td>\n",
       "    </tr>\n",
       "    <tr>\n",
       "      <th>4</th>\n",
       "      <td>b80344d063b5ccb3212f76538f3d9e43d87dca9e</td>\n",
       "      <td>SOFRQTD12A81C233C0</td>\n",
       "      <td>1</td>\n",
       "      <td>Sehr kosmisch</td>\n",
       "      <td>Musik von Harmonia</td>\n",
       "      <td>Harmonia</td>\n",
       "      <td>0</td>\n",
       "    </tr>\n",
       "    <tr>\n",
       "      <th>...</th>\n",
       "      <td>...</td>\n",
       "      <td>...</td>\n",
       "      <td>...</td>\n",
       "      <td>...</td>\n",
       "      <td>...</td>\n",
       "      <td>...</td>\n",
       "      <td>...</td>\n",
       "    </tr>\n",
       "    <tr>\n",
       "      <th>336425</th>\n",
       "      <td>d8bfd4ec88f0f3773a9e022e3c1a0f1d3b7b6a92</td>\n",
       "      <td>SOHZPIK12A58A7CCAE</td>\n",
       "      <td>4</td>\n",
       "      <td>Te Amo</td>\n",
       "      <td>Rated R</td>\n",
       "      <td>Rihanna</td>\n",
       "      <td>2009</td>\n",
       "    </tr>\n",
       "    <tr>\n",
       "      <th>336426</th>\n",
       "      <td>d8bfd4ec88f0f3773a9e022e3c1a0f1d3b7b6a92</td>\n",
       "      <td>SOIDDNJ12AC9071B90</td>\n",
       "      <td>1</td>\n",
       "      <td>That Should Be Me</td>\n",
       "      <td>My Worlds</td>\n",
       "      <td>Justin Bieber</td>\n",
       "      <td>2010</td>\n",
       "    </tr>\n",
       "    <tr>\n",
       "      <th>336427</th>\n",
       "      <td>d8bfd4ec88f0f3773a9e022e3c1a0f1d3b7b6a92</td>\n",
       "      <td>SOIOESO12A6D4F621D</td>\n",
       "      <td>4</td>\n",
       "      <td>Unwell (Album Version)</td>\n",
       "      <td>More Than You Think You Are</td>\n",
       "      <td>matchbox twenty</td>\n",
       "      <td>2003</td>\n",
       "    </tr>\n",
       "    <tr>\n",
       "      <th>336428</th>\n",
       "      <td>d8bfd4ec88f0f3773a9e022e3c1a0f1d3b7b6a92</td>\n",
       "      <td>SOJKQSF12A6D4F5EE9</td>\n",
       "      <td>3</td>\n",
       "      <td>What I've Done (Album Version)</td>\n",
       "      <td>What I've Done</td>\n",
       "      <td>Linkin Park</td>\n",
       "      <td>2007</td>\n",
       "    </tr>\n",
       "    <tr>\n",
       "      <th>336429</th>\n",
       "      <td>d8bfd4ec88f0f3773a9e022e3c1a0f1d3b7b6a92</td>\n",
       "      <td>SOJUXGA12AC961885C</td>\n",
       "      <td>1</td>\n",
       "      <td>Up</td>\n",
       "      <td>My Worlds</td>\n",
       "      <td>Justin Bieber</td>\n",
       "      <td>2010</td>\n",
       "    </tr>\n",
       "  </tbody>\n",
       "</table>\n",
       "<p>336430 rows × 7 columns</p>\n",
       "</div>"
      ],
      "text/plain": [
       "                                         user_id             song_id  \\\n",
       "0       b80344d063b5ccb3212f76538f3d9e43d87dca9e  SOBXHDL12A81C204C0   \n",
       "1       b80344d063b5ccb3212f76538f3d9e43d87dca9e  SOBYHAJ12A6701BF1D   \n",
       "2       b80344d063b5ccb3212f76538f3d9e43d87dca9e  SODACBL12A8C13C273   \n",
       "3       b80344d063b5ccb3212f76538f3d9e43d87dca9e  SODXRTY12AB0180F3B   \n",
       "4       b80344d063b5ccb3212f76538f3d9e43d87dca9e  SOFRQTD12A81C233C0   \n",
       "...                                          ...                 ...   \n",
       "336425  d8bfd4ec88f0f3773a9e022e3c1a0f1d3b7b6a92  SOHZPIK12A58A7CCAE   \n",
       "336426  d8bfd4ec88f0f3773a9e022e3c1a0f1d3b7b6a92  SOIDDNJ12AC9071B90   \n",
       "336427  d8bfd4ec88f0f3773a9e022e3c1a0f1d3b7b6a92  SOIOESO12A6D4F621D   \n",
       "336428  d8bfd4ec88f0f3773a9e022e3c1a0f1d3b7b6a92  SOJKQSF12A6D4F5EE9   \n",
       "336429  d8bfd4ec88f0f3773a9e022e3c1a0f1d3b7b6a92  SOJUXGA12AC961885C   \n",
       "\n",
       "        listen_count                           title  \\\n",
       "0                  1                        Stronger   \n",
       "1                  1                  Constellations   \n",
       "2                  1                    Learn To Fly   \n",
       "3                  1                   Paper Gangsta   \n",
       "4                  1                   Sehr kosmisch   \n",
       "...              ...                             ...   \n",
       "336425             4                          Te Amo   \n",
       "336426             1               That Should Be Me   \n",
       "336427             4          Unwell (Album Version)   \n",
       "336428             3  What I've Done (Album Version)   \n",
       "336429             1                              Up   \n",
       "\n",
       "                              release      artist_name  year  \n",
       "0                          Graduation       Kanye West  2007  \n",
       "1                   In Between Dreams     Jack Johnson  2005  \n",
       "2       There Is Nothing Left To Lose     Foo Fighters  1999  \n",
       "3                    The Fame Monster        Lady GaGa  2008  \n",
       "4                  Musik von Harmonia         Harmonia     0  \n",
       "...                               ...              ...   ...  \n",
       "336425                        Rated R          Rihanna  2009  \n",
       "336426                      My Worlds    Justin Bieber  2010  \n",
       "336427    More Than You Think You Are  matchbox twenty  2003  \n",
       "336428                 What I've Done      Linkin Park  2007  \n",
       "336429                      My Worlds    Justin Bieber  2010  \n",
       "\n",
       "[336430 rows x 7 columns]"
      ]
     },
     "execution_count": 5,
     "metadata": {},
     "output_type": "execute_result"
    }
   ],
   "source": [
    "df_songs_ridotto = df_songs[(df_songs['user_id'].isin(user_ten_id)) & (df_songs['song_id'].isin(song_ten_id))].reset_index(drop=True)\n",
    "df_songs_ridotto"
   ]
  },
  {
   "cell_type": "code",
   "execution_count": 6,
   "id": "a308acac",
   "metadata": {},
   "outputs": [
    {
     "data": {
      "image/png": "[encoded data removed]",
      "text/plain": [
       "<Figure size 1152x576 with 1 Axes>"
      ]
     },
     "metadata": {
      "needs_background": "light"
     },
     "output_type": "display_data"
    }
   ],
   "source": [
    "# Creazione scala valutazione\n",
    "\n",
    "scala = [0, 1, 2, 3, 4, 5, 6, 7, 8, 9, 2214]\n",
    "\n",
    "df_songs_ridotto ['listen_count'] = pd.cut(df_songs_ridotto ['listen_count'], bins=scala, labels=[1, 2, 3, 4, 5, 6, 7, 8, 9, 10])\n",
    "\n",
    "listen_counts = pd.DataFrame(df_songs_ridotto .groupby('listen_count').size(), columns=['count']).reset_index(drop=False)\n",
    "\n",
    "plt.figure(figsize=(16, 8))\n",
    "sns.barplot(x='listen_count', y='count', palette='Set3', data=listen_counts)\n",
    "plt.gca().spines['top'].set_visible(False)\n",
    "plt.gca().spines['right'].set_visible(False)\n",
    "plt.show();"
   ]
  },
  {
   "cell_type": "code",
   "execution_count": 7,
   "id": "ea3b728b",
   "metadata": {},
   "outputs": [],
   "source": [
    "reader = Reader(rating_scale=(1, 10))\n",
    "data = Dataset.load_from_df(df_songs_ridotto [['user_id', 'title', 'listen_count']], reader)"
   ]
  },
  {
   "cell_type": "code",
   "execution_count": 8,
   "id": "7a45f2d4",
   "metadata": {},
   "outputs": [],
   "source": [
    "train_set, test_set = train_test_split(data, test_size=.25)"
   ]
  },
  {
   "cell_type": "code",
   "execution_count": 9,
   "id": "1758a6b5",
   "metadata": {},
   "outputs": [],
   "source": [
    "# Funzione get top n predictions di Surprise\n",
    "from collections import defaultdict\n",
    "def get_top_n(predictions, n=10):\n",
    "    \n",
    "    # First map the predictions to each user.\n",
    "    top_n = defaultdict(list)\n",
    "    for uid, iid, r_ui, est, _ in predictions:\n",
    "        top_n[uid].append((iid, est, r_ui))\n",
    "\n",
    "    # Then sort the predictions for each user and retrieve the k highest ones.\n",
    "    for uid, user_ratings in top_n.items():\n",
    "        # print(user_ratings)\n",
    "        user_ratings = sorted(user_ratings,key=lambda x: x[1], reverse=True)\n",
    "        top_n[uid] = user_ratings[:n]\n",
    "\n",
    "    return top_n"
   ]
  },
  {
   "cell_type": "markdown",
   "id": "5b1e853f",
   "metadata": {},
   "source": [
    "                                    KNN BASIC"
   ]
  },
  {
   "cell_type": "code",
   "execution_count": 10,
   "id": "d4ec1e48",
   "metadata": {},
   "outputs": [],
   "source": [
    "# Definizione indice similarità\n",
    "sim_cos = {'name':'cosine', 'user_based':False}"
   ]
  },
  {
   "cell_type": "code",
   "execution_count": 11,
   "id": "6ca3444c",
   "metadata": {},
   "outputs": [
    {
     "name": "stdout",
     "output_type": "stream",
     "text": [
      "Computing the cosine similarity matrix...\n",
      "Done computing similarity matrix.\n"
     ]
    },
    {
     "data": {
      "text/plain": [
       "<surprise.prediction_algorithms.knns.KNNBasic at 0x14b00a525b0>"
      ]
     },
     "execution_count": 11,
     "metadata": {},
     "output_type": "execute_result"
    }
   ],
   "source": [
    "# Addestramento del modello\n",
    "Kbasic = knns.KNNBasic(sim_options=sim_cos)\n",
    "Kbasic.fit(train_set)"
   ]
  },
  {
   "cell_type": "code",
   "execution_count": 12,
   "id": "f9f7efde",
   "metadata": {},
   "outputs": [],
   "source": [
    "# Test del modello\n",
    "predictions = Kbasic.test(test_set)"
   ]
  },
  {
   "cell_type": "code",
   "execution_count": 13,
   "id": "6debe515",
   "metadata": {},
   "outputs": [
    {
     "name": "stdout",
     "output_type": "stream",
     "text": [
      "RMSE: 2.3661\n",
      "MAE:  1.6468\n"
     ]
    }
   ],
   "source": [
    "# Metriche di valutazione\n",
    "rmse = accuracy.rmse(predictions)\n",
    "mae = accuracy.mae(predictions)"
   ]
  },
  {
   "cell_type": "code",
   "execution_count": 14,
   "id": "f141de3d",
   "metadata": {},
   "outputs": [],
   "source": [
    "# Generazione top n previsioni\n",
    "top_pred_knn = get_top_n(predictions,10)"
   ]
  },
  {
   "cell_type": "code",
   "execution_count": 15,
   "id": "d5751bdb",
   "metadata": {},
   "outputs": [
    {
     "data": {
      "text/html": [
       "<div>\n",
       "<style scoped>\n",
       "    .dataframe tbody tr th:only-of-type {\n",
       "        vertical-align: middle;\n",
       "    }\n",
       "\n",
       "    .dataframe tbody tr th {\n",
       "        vertical-align: top;\n",
       "    }\n",
       "\n",
       "    .dataframe thead th {\n",
       "        text-align: right;\n",
       "    }\n",
       "</style>\n",
       "<table border=\"1\" class=\"dataframe\">\n",
       "  <thead>\n",
       "    <tr style=\"text-align: right;\">\n",
       "      <th></th>\n",
       "      <th>userId</th>\n",
       "      <th>title</th>\n",
       "      <th>rat_pred</th>\n",
       "    </tr>\n",
       "  </thead>\n",
       "  <tbody>\n",
       "    <tr>\n",
       "      <th>0</th>\n",
       "      <td>a498a85e2bb584cf048a48c46e67d438e23c7f1b</td>\n",
       "      <td>Rock Star</td>\n",
       "      <td>1.496840</td>\n",
       "    </tr>\n",
       "    <tr>\n",
       "      <th>1</th>\n",
       "      <td>a498a85e2bb584cf048a48c46e67d438e23c7f1b</td>\n",
       "      <td>I Gotta Feeling</td>\n",
       "      <td>1.466856</td>\n",
       "    </tr>\n",
       "    <tr>\n",
       "      <th>2</th>\n",
       "      <td>a498a85e2bb584cf048a48c46e67d438e23c7f1b</td>\n",
       "      <td>Party In The U.S.A.</td>\n",
       "      <td>1.459479</td>\n",
       "    </tr>\n",
       "    <tr>\n",
       "      <th>3</th>\n",
       "      <td>a498a85e2bb584cf048a48c46e67d438e23c7f1b</td>\n",
       "      <td>Crazy</td>\n",
       "      <td>1.448266</td>\n",
       "    </tr>\n",
       "    <tr>\n",
       "      <th>4</th>\n",
       "      <td>a498a85e2bb584cf048a48c46e67d438e23c7f1b</td>\n",
       "      <td>You Belong With Me</td>\n",
       "      <td>1.432317</td>\n",
       "    </tr>\n",
       "    <tr>\n",
       "      <th>...</th>\n",
       "      <td>...</td>\n",
       "      <td>...</td>\n",
       "      <td>...</td>\n",
       "    </tr>\n",
       "    <tr>\n",
       "      <th>73418</th>\n",
       "      <td>7865594dd4c61c79de54002d588fef1e037b8c04</td>\n",
       "      <td>Fast As I Can</td>\n",
       "      <td>1.188729</td>\n",
       "    </tr>\n",
       "    <tr>\n",
       "      <th>73419</th>\n",
       "      <td>113d1ee9fc61aa94e506f6eba3c6d96cb98a3505</td>\n",
       "      <td>Taylor</td>\n",
       "      <td>2.653007</td>\n",
       "    </tr>\n",
       "    <tr>\n",
       "      <th>73420</th>\n",
       "      <td>7e3286eab0adeca89f300c4642eee6a1be176e34</td>\n",
       "      <td>Savior</td>\n",
       "      <td>2.689551</td>\n",
       "    </tr>\n",
       "    <tr>\n",
       "      <th>73421</th>\n",
       "      <td>16954c8b534325abadf5aca57594d3b7779ea3b9</td>\n",
       "      <td>Lithium</td>\n",
       "      <td>2.235221</td>\n",
       "    </tr>\n",
       "    <tr>\n",
       "      <th>73422</th>\n",
       "      <td>a1e235b7205119135f84acbffb6cff135f088dd0</td>\n",
       "      <td>Lucky (Album Version)</td>\n",
       "      <td>1.000000</td>\n",
       "    </tr>\n",
       "  </tbody>\n",
       "</table>\n",
       "<p>73423 rows × 3 columns</p>\n",
       "</div>"
      ],
      "text/plain": [
       "                                         userId                  title  \\\n",
       "0      a498a85e2bb584cf048a48c46e67d438e23c7f1b              Rock Star   \n",
       "1      a498a85e2bb584cf048a48c46e67d438e23c7f1b        I Gotta Feeling   \n",
       "2      a498a85e2bb584cf048a48c46e67d438e23c7f1b    Party In The U.S.A.   \n",
       "3      a498a85e2bb584cf048a48c46e67d438e23c7f1b                  Crazy   \n",
       "4      a498a85e2bb584cf048a48c46e67d438e23c7f1b     You Belong With Me   \n",
       "...                                         ...                    ...   \n",
       "73418  7865594dd4c61c79de54002d588fef1e037b8c04          Fast As I Can   \n",
       "73419  113d1ee9fc61aa94e506f6eba3c6d96cb98a3505                 Taylor   \n",
       "73420  7e3286eab0adeca89f300c4642eee6a1be176e34                 Savior   \n",
       "73421  16954c8b534325abadf5aca57594d3b7779ea3b9                Lithium   \n",
       "73422  a1e235b7205119135f84acbffb6cff135f088dd0  Lucky (Album Version)   \n",
       "\n",
       "       rat_pred  \n",
       "0      1.496840  \n",
       "1      1.466856  \n",
       "2      1.459479  \n",
       "3      1.448266  \n",
       "4      1.432317  \n",
       "...         ...  \n",
       "73418  1.188729  \n",
       "73419  2.653007  \n",
       "73420  2.689551  \n",
       "73421  2.235221  \n",
       "73422  1.000000  \n",
       "\n",
       "[73423 rows x 3 columns]"
      ]
     },
     "execution_count": 15,
     "metadata": {},
     "output_type": "execute_result"
    }
   ],
   "source": [
    "top_pred_knn_df = pd.DataFrame([(id, pair[0],pair[1]) for id, row in top_pred_knn.items() for pair in row],columns=[\"userId\" ,\"title\",\"rat_pred\"])\n",
    "top_pred_knn_df"
   ]
  },
  {
   "cell_type": "code",
   "execution_count": 16,
   "id": "0c46b7fa",
   "metadata": {},
   "outputs": [
    {
     "data": {
      "text/html": [
       "<div>\n",
       "<style scoped>\n",
       "    .dataframe tbody tr th:only-of-type {\n",
       "        vertical-align: middle;\n",
       "    }\n",
       "\n",
       "    .dataframe tbody tr th {\n",
       "        vertical-align: top;\n",
       "    }\n",
       "\n",
       "    .dataframe thead th {\n",
       "        text-align: right;\n",
       "    }\n",
       "</style>\n",
       "<table border=\"1\" class=\"dataframe\">\n",
       "  <thead>\n",
       "    <tr style=\"text-align: right;\">\n",
       "      <th></th>\n",
       "      <th>title</th>\n",
       "      <th>rat_pred</th>\n",
       "    </tr>\n",
       "  </thead>\n",
       "  <tbody>\n",
       "    <tr>\n",
       "      <th>69139</th>\n",
       "      <td>Speed Of Sound</td>\n",
       "      <td>5.444970</td>\n",
       "    </tr>\n",
       "    <tr>\n",
       "      <th>69140</th>\n",
       "      <td>In My Place</td>\n",
       "      <td>5.368005</td>\n",
       "    </tr>\n",
       "    <tr>\n",
       "      <th>69141</th>\n",
       "      <td>Fix You</td>\n",
       "      <td>5.294225</td>\n",
       "    </tr>\n",
       "    <tr>\n",
       "      <th>69142</th>\n",
       "      <td>Sparks</td>\n",
       "      <td>5.285498</td>\n",
       "    </tr>\n",
       "    <tr>\n",
       "      <th>69143</th>\n",
       "      <td>Lost!</td>\n",
       "      <td>5.231800</td>\n",
       "    </tr>\n",
       "    <tr>\n",
       "      <th>69144</th>\n",
       "      <td>Back Against The Wall</td>\n",
       "      <td>5.093979</td>\n",
       "    </tr>\n",
       "    <tr>\n",
       "      <th>69145</th>\n",
       "      <td>The District Sleeps Alone Tonight (Album)</td>\n",
       "      <td>5.072608</td>\n",
       "    </tr>\n",
       "    <tr>\n",
       "      <th>69146</th>\n",
       "      <td>Human</td>\n",
       "      <td>5.015479</td>\n",
       "    </tr>\n",
       "    <tr>\n",
       "      <th>69147</th>\n",
       "      <td>If We Ever Meet Again</td>\n",
       "      <td>4.877969</td>\n",
       "    </tr>\n",
       "    <tr>\n",
       "      <th>69148</th>\n",
       "      <td>Drops Of Jupiter</td>\n",
       "      <td>4.816314</td>\n",
       "    </tr>\n",
       "  </tbody>\n",
       "</table>\n",
       "</div>"
      ],
      "text/plain": [
       "                                           title  rat_pred\n",
       "69139                             Speed Of Sound  5.444970\n",
       "69140                                In My Place  5.368005\n",
       "69141                                    Fix You  5.294225\n",
       "69142                                     Sparks  5.285498\n",
       "69143                                      Lost!  5.231800\n",
       "69144                      Back Against The Wall  5.093979\n",
       "69145  The District Sleeps Alone Tonight (Album)  5.072608\n",
       "69146                                      Human  5.015479\n",
       "69147                      If We Ever Meet Again  4.877969\n",
       "69148                           Drops Of Jupiter  4.816314"
      ]
     },
     "execution_count": 16,
     "metadata": {},
     "output_type": "execute_result"
    }
   ],
   "source": [
    "top_pred_knn_df.loc[top_pred_knn_df['userId'] == 'b048f21afd5e7467f187bf9f9d413e97c32313a9', ('title', 'rat_pred')]"
   ]
  },
  {
   "cell_type": "markdown",
   "id": "0d14defb",
   "metadata": {},
   "source": [
    "                                KNN MEANS MODEL"
   ]
  },
  {
   "cell_type": "code",
   "execution_count": 17,
   "id": "ff157c4b",
   "metadata": {},
   "outputs": [
    {
     "name": "stdout",
     "output_type": "stream",
     "text": [
      "Computing the cosine similarity matrix...\n",
      "Done computing similarity matrix.\n"
     ]
    },
    {
     "data": {
      "text/plain": [
       "<surprise.prediction_algorithms.knns.KNNWithMeans at 0x14b1dc780d0>"
      ]
     },
     "execution_count": 17,
     "metadata": {},
     "output_type": "execute_result"
    }
   ],
   "source": [
    "# Addestramento del modello \n",
    "KNNMeans = knns.KNNWithMeans(sim_options=sim_cos)\n",
    "KNNMeans.fit(train_set)"
   ]
  },
  {
   "cell_type": "code",
   "execution_count": 18,
   "id": "a1307c7d",
   "metadata": {},
   "outputs": [],
   "source": [
    "# Test del modello\n",
    "predictions_mean = KNNMeans.test(test_set)"
   ]
  },
  {
   "cell_type": "code",
   "execution_count": 19,
   "id": "acf55d80",
   "metadata": {},
   "outputs": [
    {
     "name": "stdout",
     "output_type": "stream",
     "text": [
      "RMSE: 2.2970\n",
      "MAE:  1.5997\n"
     ]
    }
   ],
   "source": [
    "# Metriche di valutazione\n",
    "rmse = accuracy.rmse(predictions_mean)\n",
    "mae = accuracy.mae(predictions_mean)"
   ]
  },
  {
   "cell_type": "code",
   "execution_count": 20,
   "id": "078455f8",
   "metadata": {},
   "outputs": [],
   "source": [
    "# Generazione top n previsioni\n",
    "top_pred_mean = get_top_n(predictions_mean,10)"
   ]
  },
  {
   "cell_type": "code",
   "execution_count": 21,
   "id": "0974bf3b",
   "metadata": {},
   "outputs": [
    {
     "data": {
      "text/plain": [
       "[('Lost!', 5.50100015981436, 8.0),\n",
       " ('If We Ever Meet Again', 5.467767203234221, 1.0),\n",
       " ('Fix You', 5.346892299116302, 7.0),\n",
       " ('Speed Of Sound', 5.287948250316397, 5.0),\n",
       " ('In My Place', 5.193530912643535, 5.0),\n",
       " ('Human', 5.117289065036615, 6.0),\n",
       " ('Back Against The Wall', 5.046856138152913, 1.0),\n",
       " ('Sparks', 4.99783772244645, 4.0),\n",
       " ('The District Sleeps Alone Tonight (Album)', 4.933840258789533, 1.0),\n",
       " ('Drops Of Jupiter', 4.925922702211263, 4.0)]"
      ]
     },
     "execution_count": 21,
     "metadata": {},
     "output_type": "execute_result"
    }
   ],
   "source": [
    "top_pred_mean['b048f21afd5e7467f187bf9f9d413e97c32313a9']"
   ]
  },
  {
   "cell_type": "code",
   "execution_count": 22,
   "id": "5b4b2fe8",
   "metadata": {},
   "outputs": [
    {
     "data": {
      "text/html": [
       "<div>\n",
       "<style scoped>\n",
       "    .dataframe tbody tr th:only-of-type {\n",
       "        vertical-align: middle;\n",
       "    }\n",
       "\n",
       "    .dataframe tbody tr th {\n",
       "        vertical-align: top;\n",
       "    }\n",
       "\n",
       "    .dataframe thead th {\n",
       "        text-align: right;\n",
       "    }\n",
       "</style>\n",
       "<table border=\"1\" class=\"dataframe\">\n",
       "  <thead>\n",
       "    <tr style=\"text-align: right;\">\n",
       "      <th></th>\n",
       "      <th>title</th>\n",
       "      <th>rat_pred</th>\n",
       "    </tr>\n",
       "  </thead>\n",
       "  <tbody>\n",
       "    <tr>\n",
       "      <th>69139</th>\n",
       "      <td>Lost!</td>\n",
       "      <td>5.501000</td>\n",
       "    </tr>\n",
       "    <tr>\n",
       "      <th>69140</th>\n",
       "      <td>If We Ever Meet Again</td>\n",
       "      <td>5.467767</td>\n",
       "    </tr>\n",
       "    <tr>\n",
       "      <th>69141</th>\n",
       "      <td>Fix You</td>\n",
       "      <td>5.346892</td>\n",
       "    </tr>\n",
       "    <tr>\n",
       "      <th>69142</th>\n",
       "      <td>Speed Of Sound</td>\n",
       "      <td>5.287948</td>\n",
       "    </tr>\n",
       "    <tr>\n",
       "      <th>69143</th>\n",
       "      <td>In My Place</td>\n",
       "      <td>5.193531</td>\n",
       "    </tr>\n",
       "    <tr>\n",
       "      <th>69144</th>\n",
       "      <td>Human</td>\n",
       "      <td>5.117289</td>\n",
       "    </tr>\n",
       "    <tr>\n",
       "      <th>69145</th>\n",
       "      <td>Back Against The Wall</td>\n",
       "      <td>5.046856</td>\n",
       "    </tr>\n",
       "    <tr>\n",
       "      <th>69146</th>\n",
       "      <td>Sparks</td>\n",
       "      <td>4.997838</td>\n",
       "    </tr>\n",
       "    <tr>\n",
       "      <th>69147</th>\n",
       "      <td>The District Sleeps Alone Tonight (Album)</td>\n",
       "      <td>4.933840</td>\n",
       "    </tr>\n",
       "    <tr>\n",
       "      <th>69148</th>\n",
       "      <td>Drops Of Jupiter</td>\n",
       "      <td>4.925923</td>\n",
       "    </tr>\n",
       "  </tbody>\n",
       "</table>\n",
       "</div>"
      ],
      "text/plain": [
       "                                           title  rat_pred\n",
       "69139                                      Lost!  5.501000\n",
       "69140                      If We Ever Meet Again  5.467767\n",
       "69141                                    Fix You  5.346892\n",
       "69142                             Speed Of Sound  5.287948\n",
       "69143                                In My Place  5.193531\n",
       "69144                                      Human  5.117289\n",
       "69145                      Back Against The Wall  5.046856\n",
       "69146                                     Sparks  4.997838\n",
       "69147  The District Sleeps Alone Tonight (Album)  4.933840\n",
       "69148                           Drops Of Jupiter  4.925923"
      ]
     },
     "execution_count": 22,
     "metadata": {},
     "output_type": "execute_result"
    }
   ],
   "source": [
    "top_pred_mean_df = pd.DataFrame([(id, pair[0],pair[1]) for id, row in top_pred_mean.items() for pair in row],columns=[\"userId\" ,\"title\",\"rat_pred\"])\n",
    "\n",
    "top_pred_mean_df.loc[top_pred_mean_df['userId'] == 'b048f21afd5e7467f187bf9f9d413e97c32313a9', ('title', 'rat_pred')]"
   ]
  },
  {
   "cell_type": "markdown",
   "id": "4224b902",
   "metadata": {},
   "source": [
    "                            KNN Z SCORE MODEL"
   ]
  },
  {
   "cell_type": "code",
   "execution_count": 23,
   "id": "72696a5c",
   "metadata": {},
   "outputs": [
    {
     "name": "stdout",
     "output_type": "stream",
     "text": [
      "Computing the cosine similarity matrix...\n",
      "Done computing similarity matrix.\n"
     ]
    },
    {
     "data": {
      "text/plain": [
       "<surprise.prediction_algorithms.knns.KNNWithZScore at 0x14b22e41760>"
      ]
     },
     "execution_count": 23,
     "metadata": {},
     "output_type": "execute_result"
    }
   ],
   "source": [
    "# Addestramento del modello\n",
    "KNN_Z = knns.KNNWithZScore(sim_options=sim_cos)\n",
    "KNN_Z.fit(train_set)"
   ]
  },
  {
   "cell_type": "code",
   "execution_count": 24,
   "id": "46588161",
   "metadata": {},
   "outputs": [],
   "source": [
    "# Test del modello\n",
    "predictions_Z = KNN_Z.test(test_set)"
   ]
  },
  {
   "cell_type": "code",
   "execution_count": 25,
   "id": "6872c17e",
   "metadata": {},
   "outputs": [
    {
     "name": "stdout",
     "output_type": "stream",
     "text": [
      "RMSE: 2.3056\n",
      "MAE:  1.5901\n"
     ]
    }
   ],
   "source": [
    "# Metriche di valutazione\n",
    "rmse = accuracy.rmse(predictions_Z)\n",
    "mae = accuracy.mae(predictions_Z)"
   ]
  },
  {
   "cell_type": "code",
   "execution_count": 26,
   "id": "1f5b4aa0",
   "metadata": {},
   "outputs": [],
   "source": [
    "# Generazione top n previsioni\n",
    "top_pred_Z = get_top_n(predictions_Z,10)"
   ]
  },
  {
   "cell_type": "code",
   "execution_count": 27,
   "id": "e9dd64ea",
   "metadata": {},
   "outputs": [
    {
     "data": {
      "text/html": [
       "<div>\n",
       "<style scoped>\n",
       "    .dataframe tbody tr th:only-of-type {\n",
       "        vertical-align: middle;\n",
       "    }\n",
       "\n",
       "    .dataframe tbody tr th {\n",
       "        vertical-align: top;\n",
       "    }\n",
       "\n",
       "    .dataframe thead th {\n",
       "        text-align: right;\n",
       "    }\n",
       "</style>\n",
       "<table border=\"1\" class=\"dataframe\">\n",
       "  <thead>\n",
       "    <tr style=\"text-align: right;\">\n",
       "      <th></th>\n",
       "      <th>title</th>\n",
       "      <th>rat_pred</th>\n",
       "    </tr>\n",
       "  </thead>\n",
       "  <tbody>\n",
       "    <tr>\n",
       "      <th>69139</th>\n",
       "      <td>If We Ever Meet Again</td>\n",
       "      <td>6.137865</td>\n",
       "    </tr>\n",
       "    <tr>\n",
       "      <th>69140</th>\n",
       "      <td>Lost!</td>\n",
       "      <td>5.900008</td>\n",
       "    </tr>\n",
       "    <tr>\n",
       "      <th>69141</th>\n",
       "      <td>Fix You</td>\n",
       "      <td>5.343006</td>\n",
       "    </tr>\n",
       "    <tr>\n",
       "      <th>69142</th>\n",
       "      <td>Human</td>\n",
       "      <td>5.318386</td>\n",
       "    </tr>\n",
       "    <tr>\n",
       "      <th>69143</th>\n",
       "      <td>Speed Of Sound</td>\n",
       "      <td>5.205422</td>\n",
       "    </tr>\n",
       "    <tr>\n",
       "      <th>69144</th>\n",
       "      <td>Back Against The Wall</td>\n",
       "      <td>5.068369</td>\n",
       "    </tr>\n",
       "    <tr>\n",
       "      <th>69145</th>\n",
       "      <td>Drops Of Jupiter</td>\n",
       "      <td>5.028949</td>\n",
       "    </tr>\n",
       "    <tr>\n",
       "      <th>69146</th>\n",
       "      <td>In My Place</td>\n",
       "      <td>4.958524</td>\n",
       "    </tr>\n",
       "    <tr>\n",
       "      <th>69147</th>\n",
       "      <td>The District Sleeps Alone Tonight (Album)</td>\n",
       "      <td>4.872372</td>\n",
       "    </tr>\n",
       "    <tr>\n",
       "      <th>69148</th>\n",
       "      <td>Sparks</td>\n",
       "      <td>4.653699</td>\n",
       "    </tr>\n",
       "  </tbody>\n",
       "</table>\n",
       "</div>"
      ],
      "text/plain": [
       "                                           title  rat_pred\n",
       "69139                      If We Ever Meet Again  6.137865\n",
       "69140                                      Lost!  5.900008\n",
       "69141                                    Fix You  5.343006\n",
       "69142                                      Human  5.318386\n",
       "69143                             Speed Of Sound  5.205422\n",
       "69144                      Back Against The Wall  5.068369\n",
       "69145                           Drops Of Jupiter  5.028949\n",
       "69146                                In My Place  4.958524\n",
       "69147  The District Sleeps Alone Tonight (Album)  4.872372\n",
       "69148                                     Sparks  4.653699"
      ]
     },
     "execution_count": 27,
     "metadata": {},
     "output_type": "execute_result"
    }
   ],
   "source": [
    "top_pred_Z_df = pd.DataFrame([(id, pair[0],pair[1]) for id, row in top_pred_Z.items() for pair in row],columns=[\"userId\" ,\"title\",\"rat_pred\"])\n",
    "\n",
    "top_pred_Z_df.loc[top_pred_Z_df['userId'] == 'b048f21afd5e7467f187bf9f9d413e97c32313a9', ('title', 'rat_pred')]\n"
   ]
  },
  {
   "cell_type": "markdown",
   "id": "033c90a7",
   "metadata": {},
   "source": [
    "                                USER BASED"
   ]
  },
  {
   "cell_type": "markdown",
   "id": "f6b00912",
   "metadata": {},
   "source": [
    "                                BASIC KNN"
   ]
  },
  {
   "cell_type": "code",
   "execution_count": 28,
   "id": "9e6292da",
   "metadata": {},
   "outputs": [],
   "source": [
    "# Definizione indice similarità\n",
    "sim_pearson = {'name':'pearson', 'user_based':True}"
   ]
  },
  {
   "cell_type": "code",
   "execution_count": null,
   "id": "723dcd0f",
   "metadata": {},
   "outputs": [],
   "source": [
    "# Addestramento del modello\n",
    "KNN_basic_u = knns.KNNBasic(sim_options=sim_pearson)\n",
    "KNN_basic_u.fit(train_set)"
   ]
  },
  {
   "cell_type": "code",
   "execution_count": null,
   "id": "7bd7725e",
   "metadata": {},
   "outputs": [],
   "source": [
    "# Test del modello\n",
    "predictions_basic_u = KNN_basic_u.test(test_set)"
   ]
  },
  {
   "cell_type": "code",
   "execution_count": null,
   "id": "265f2f90",
   "metadata": {},
   "outputs": [],
   "source": [
    "# Metriche di valutazione\n",
    "rmse = accuracy.rmse(predictions_basic_u)\n",
    "mae = accuracy.mae(predictions_basic_u)"
   ]
  },
  {
   "cell_type": "code",
   "execution_count": null,
   "id": "5925b4e8",
   "metadata": {},
   "outputs": [],
   "source": [
    "# Generazione top n previsioni\n",
    "top_pred_basic_u = get_top_n(predictions_basic_u,10)"
   ]
  },
  {
   "cell_type": "code",
   "execution_count": null,
   "id": "32fc37de",
   "metadata": {},
   "outputs": [],
   "source": [
    "top_pred_basic_u_df = pd.DataFrame([(id, pair[0],pair[1]) for id, row in top_pred_basic_u.items() for pair in row],columns=[\"userId\" ,\"title\",\"rat_pred\"])\n",
    "\n",
    "top_pred_basic_u_df.loc[top_pred_basic_u_df['userId'] == 'b048f21afd5e7467f187bf9f9d413e97c32313a9', ('title', 'rat_pred')]"
   ]
  },
  {
   "cell_type": "markdown",
   "id": "825ee1dd",
   "metadata": {},
   "source": [
    "                                                      \n",
    "                                                      WITH MEANS"
   ]
  },
  {
   "cell_type": "code",
   "execution_count": null,
   "id": "0f5e8716",
   "metadata": {},
   "outputs": [],
   "source": [
    "# Addestramento del modello \n",
    "KNNMeans_u = knns.KNNWithMeans(sim_options=sim_pearson)\n",
    "KNNMeans_u.fit(train_set)"
   ]
  },
  {
   "cell_type": "code",
   "execution_count": null,
   "id": "72e53f42",
   "metadata": {},
   "outputs": [],
   "source": [
    "# Test del modello\n",
    "predictions_mean_u = KNNMeans_u.test(test_set)"
   ]
  },
  {
   "cell_type": "code",
   "execution_count": null,
   "id": "fc45afe9",
   "metadata": {},
   "outputs": [],
   "source": [
    "# Metriche di valutazione\n",
    "rmse = accuracy.rmse(predictions_mean_u)\n",
    "mae = accuracy.mae(predictions_mean_u)"
   ]
  },
  {
   "cell_type": "code",
   "execution_count": null,
   "id": "b1febe06",
   "metadata": {},
   "outputs": [],
   "source": [
    "# Generazione top n previsioni\n",
    "top_pred_mean_u = get_top_n(predictions_mean_u,10)"
   ]
  },
  {
   "cell_type": "code",
   "execution_count": null,
   "id": "aca82e5d",
   "metadata": {},
   "outputs": [],
   "source": [
    "top_pred_mean_u_df = pd.DataFrame([(id, pair[0],pair[1]) for id, row in top_pred_mean_u.items() for pair in row],columns=[\"userId\" ,\"title\",\"rat_pred\"])\n",
    "\n",
    "top_pred_mean_u_df.loc[ top_pred_mean_u_df['userId'] == 'b048f21afd5e7467f187bf9f9d413e97c32313a9', ('title', 'rat_pred')]"
   ]
  },
  {
   "cell_type": "markdown",
   "id": "06d50dea",
   "metadata": {},
   "source": [
    "                                                    Z SCORE KNN"
   ]
  },
  {
   "cell_type": "code",
   "execution_count": null,
   "id": "c3aa83cc",
   "metadata": {},
   "outputs": [],
   "source": [
    "# Addestramento del modello\n",
    "KNN_Z_u = knns.KNNWithZScore(sim_options=sim_pearson)\n",
    "KNN_Z_u.fit(train_set)"
   ]
  },
  {
   "cell_type": "code",
   "execution_count": null,
   "id": "55e3b550",
   "metadata": {},
   "outputs": [],
   "source": [
    "# Test del modello\n",
    "predictions_Z_u = KNN_Z_u.test(test_set)"
   ]
  },
  {
   "cell_type": "code",
   "execution_count": null,
   "id": "7aac721a",
   "metadata": {},
   "outputs": [],
   "source": [
    "# Metriche di valutazione\n",
    "rmse = accuracy.rmse(predictions_Z_u)\n",
    "mae = accuracy.mae(predictions_Z_u)"
   ]
  },
  {
   "cell_type": "code",
   "execution_count": null,
   "id": "8c995264",
   "metadata": {},
   "outputs": [],
   "source": [
    "# Generazione top n previsioni\n",
    "top_pred_Z_u = get_top_n(predictions_Z_u,10)"
   ]
  },
  {
   "cell_type": "code",
   "execution_count": null,
   "id": "7e7b5f1c",
   "metadata": {},
   "outputs": [],
   "source": [
    "top_pred_Z_u_df = pd.DataFrame([(id, pair[0],pair[1]) for id, row in top_pred_Z_u.items() for pair in row],columns=[\"userId\" ,\"title\",\"rat_pred\"])\n",
    "\n",
    "top_pred_Z_u_df.loc[top_pred_Z_u_df['userId'] == 'b048f21afd5e7467f187bf9f9d413e97c32313a9', ('title', 'rat_pred')]"
   ]
  },
  {
   "cell_type": "markdown",
   "id": "2ff21044",
   "metadata": {},
   "source": [
    "                                                           TABELLA CONFRONTO"
   ]
  },
  {
   "cell_type": "code",
   "execution_count": null,
   "id": "af759fe9",
   "metadata": {},
   "outputs": [],
   "source": [
    "accuracy_tab = {'RMSE': [2.3775, 2.3138,  2.3251, 2.5794, 2.3704, 2.3645],\n",
    "        'MAE': [ 1.6536, 1.6075,  1.5997, 1.9333, 1.6308, 1.6052]\n",
    "        } \n",
    "\n",
    "accuracy_tab_df = pd.DataFrame(accuracy_tab, index=['Basic_I','WithMeans_I','Zscore_I','Basic_U','WithMeans_U','Zscore_U'])\n",
    "display(accuracy_tab_df)"
   ]
  },
  {
   "cell_type": "code",
   "execution_count": null,
   "id": "35a3e796",
   "metadata": {},
   "outputs": [],
   "source": [
    "accuracy_tab.to_csv('accuracy_tab.csv')"
   ]
  },
  {
   "cell_type": "code",
   "execution_count": null,
   "id": "82546088",
   "metadata": {},
   "outputs": [],
   "source": []
  }
 ],
 "metadata": {
  "kernelspec": {
   "display_name": "Python 3 (ipykernel)",
   "language": "python",
   "name": "python3"
  },
  "language_info": {
   "codemirror_mode": {
    "name": "ipython",
    "version": 3
   },
   "file_extension": ".py",
   "mimetype": "text/x-python",
   "name": "python",
   "nbconvert_exporter": "python",
   "pygments_lexer": "ipython3",
   "version": "3.9.7"
  }
 },
 "nbformat": 4,
 "nbformat_minor": 5
}
