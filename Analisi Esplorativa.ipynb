{
 "cells": [
  {
   "cell_type": "markdown",
   "id": "1a5790c1",
   "metadata": {},
   "source": [
    "Analisi Esplorativa"
   ]
  },
  {
   "cell_type": "code",
   "execution_count": 1,
   "id": "f894037c",
   "metadata": {},
   "outputs": [],
   "source": [
    "import pandas as pd\n",
    "import numpy as np\n",
    "import matplotlib.pyplot as plt\n",
    "import seaborn as sns\n",
    "import matplotlib"
   ]
  },
  {
   "cell_type": "code",
   "execution_count": 2,
   "id": "7635ec4b",
   "metadata": {},
   "outputs": [],
   "source": [
    "# Caricamento dataset\n",
    "song_df_1 = pd.read_csv('triplets_file.csv')\n",
    "song_df_1.columns = ['user_id', 'song_id', 'listen_count']\n",
    "\n",
    "song_df_2 =  pd.read_csv('song_data.csv')\n",
    "song_df_2.drop_duplicates(['song_id'], inplace=True)\n",
    "\n",
    "\n",
    "songs_df = pd.merge(song_df_1, song_df_2, on=\"song_id\", how=\"left\")"
   ]
  },
  {
   "cell_type": "code",
   "execution_count": 3,
   "id": "80c72415",
   "metadata": {},
   "outputs": [
    {
     "name": "stdout",
     "output_type": "stream",
     "text": [
      "There are 2000000 observations in the dataset\n"
     ]
    }
   ],
   "source": [
    "# Totale osservazioni\n",
    "print(f\"There are {songs_df.shape[0]} observations in the dataset\")"
   ]
  },
  {
   "cell_type": "code",
   "execution_count": 4,
   "id": "3141b0b7",
   "metadata": {},
   "outputs": [
    {
     "data": {
      "text/plain": [
       "user_id         0\n",
       "song_id         0\n",
       "listen_count    0\n",
       "title           0\n",
       "release         0\n",
       "artist_name     0\n",
       "year            0\n",
       "dtype: int64"
      ]
     },
     "execution_count": 4,
     "metadata": {},
     "output_type": "execute_result"
    }
   ],
   "source": [
    "songs_df.isnull().sum()"
   ]
  },
  {
   "cell_type": "code",
   "execution_count": 5,
   "id": "75e12d8f",
   "metadata": {},
   "outputs": [
    {
     "data": {
      "text/plain": [
       "9567"
      ]
     },
     "execution_count": 5,
     "metadata": {},
     "output_type": "execute_result"
    }
   ],
   "source": [
    "unique_songs = songs_df['title'].unique().shape[0]\n",
    "unique_songs"
   ]
  },
  {
   "cell_type": "code",
   "execution_count": 6,
   "id": "fa38c4d9",
   "metadata": {},
   "outputs": [
    {
     "data": {
      "text/plain": [
       "3375"
      ]
     },
     "execution_count": 6,
     "metadata": {},
     "output_type": "execute_result"
    }
   ],
   "source": [
    "unique_artists = songs_df['artist_name'].unique().shape[0]\n",
    "unique_artists"
   ]
  },
  {
   "cell_type": "code",
   "execution_count": 7,
   "id": "e96b961e",
   "metadata": {},
   "outputs": [
    {
     "data": {
      "text/plain": [
       "76353"
      ]
     },
     "execution_count": 7,
     "metadata": {},
     "output_type": "execute_result"
    }
   ],
   "source": [
    "unique_users = songs_df['user_id'].unique().shape[0]\n",
    "unique_users"
   ]
  },
  {
   "cell_type": "code",
   "execution_count": 8,
   "id": "9f466575",
   "metadata": {},
   "outputs": [],
   "source": [
    "ten_top_songs = songs_df.groupby('title').count().reset_index().sort_values(['listen_count'], ascending = False)\n",
    "ten_top_songs['percentage']  = round(ten_top_songs['listen_count'].div(ten_top_songs['listen_count'].sum())*100, 2)"
   ]
  },
  {
   "cell_type": "code",
   "execution_count": 9,
   "id": "4d7757f2",
   "metadata": {},
   "outputs": [
    {
     "data": {
      "text/html": [
       "<div>\n",
       "<style scoped>\n",
       "    .dataframe tbody tr th:only-of-type {\n",
       "        vertical-align: middle;\n",
       "    }\n",
       "\n",
       "    .dataframe tbody tr th {\n",
       "        vertical-align: top;\n",
       "    }\n",
       "\n",
       "    .dataframe thead th {\n",
       "        text-align: right;\n",
       "    }\n",
       "</style>\n",
       "<table border=\"1\" class=\"dataframe\">\n",
       "  <thead>\n",
       "    <tr style=\"text-align: right;\">\n",
       "      <th></th>\n",
       "      <th>title</th>\n",
       "      <th>user_id</th>\n",
       "      <th>song_id</th>\n",
       "      <th>listen_count</th>\n",
       "      <th>release</th>\n",
       "      <th>artist_name</th>\n",
       "      <th>year</th>\n",
       "      <th>percentage</th>\n",
       "    </tr>\n",
       "  </thead>\n",
       "  <tbody>\n",
       "    <tr>\n",
       "      <th>6836</th>\n",
       "      <td>Sehr kosmisch</td>\n",
       "      <td>8277</td>\n",
       "      <td>8277</td>\n",
       "      <td>8277</td>\n",
       "      <td>8277</td>\n",
       "      <td>8277</td>\n",
       "      <td>8277</td>\n",
       "      <td>0.41</td>\n",
       "    </tr>\n",
       "    <tr>\n",
       "      <th>8725</th>\n",
       "      <td>Undo</td>\n",
       "      <td>7032</td>\n",
       "      <td>7032</td>\n",
       "      <td>7032</td>\n",
       "      <td>7032</td>\n",
       "      <td>7032</td>\n",
       "      <td>7032</td>\n",
       "      <td>0.35</td>\n",
       "    </tr>\n",
       "    <tr>\n",
       "      <th>1964</th>\n",
       "      <td>Dog Days Are Over (Radio Edit)</td>\n",
       "      <td>6949</td>\n",
       "      <td>6949</td>\n",
       "      <td>6949</td>\n",
       "      <td>6949</td>\n",
       "      <td>6949</td>\n",
       "      <td>6949</td>\n",
       "      <td>0.35</td>\n",
       "    </tr>\n",
       "    <tr>\n",
       "      <th>9496</th>\n",
       "      <td>You're The One</td>\n",
       "      <td>6729</td>\n",
       "      <td>6729</td>\n",
       "      <td>6729</td>\n",
       "      <td>6729</td>\n",
       "      <td>6729</td>\n",
       "      <td>6729</td>\n",
       "      <td>0.34</td>\n",
       "    </tr>\n",
       "    <tr>\n",
       "      <th>6498</th>\n",
       "      <td>Revelry</td>\n",
       "      <td>6145</td>\n",
       "      <td>6145</td>\n",
       "      <td>6145</td>\n",
       "      <td>6145</td>\n",
       "      <td>6145</td>\n",
       "      <td>6145</td>\n",
       "      <td>0.31</td>\n",
       "    </tr>\n",
       "    <tr>\n",
       "      <th>6825</th>\n",
       "      <td>Secrets</td>\n",
       "      <td>5841</td>\n",
       "      <td>5841</td>\n",
       "      <td>5841</td>\n",
       "      <td>5841</td>\n",
       "      <td>5841</td>\n",
       "      <td>5841</td>\n",
       "      <td>0.29</td>\n",
       "    </tr>\n",
       "    <tr>\n",
       "      <th>3437</th>\n",
       "      <td>Horn Concerto No. 4 in E flat K495: II. Romanc...</td>\n",
       "      <td>5385</td>\n",
       "      <td>5385</td>\n",
       "      <td>5385</td>\n",
       "      <td>5385</td>\n",
       "      <td>5385</td>\n",
       "      <td>5385</td>\n",
       "      <td>0.27</td>\n",
       "    </tr>\n",
       "    <tr>\n",
       "      <th>2595</th>\n",
       "      <td>Fireflies</td>\n",
       "      <td>4795</td>\n",
       "      <td>4795</td>\n",
       "      <td>4795</td>\n",
       "      <td>4795</td>\n",
       "      <td>4795</td>\n",
       "      <td>4795</td>\n",
       "      <td>0.24</td>\n",
       "    </tr>\n",
       "    <tr>\n",
       "      <th>3322</th>\n",
       "      <td>Hey_ Soul Sister</td>\n",
       "      <td>4758</td>\n",
       "      <td>4758</td>\n",
       "      <td>4758</td>\n",
       "      <td>4758</td>\n",
       "      <td>4758</td>\n",
       "      <td>4758</td>\n",
       "      <td>0.24</td>\n",
       "    </tr>\n",
       "    <tr>\n",
       "      <th>8494</th>\n",
       "      <td>Tive Sim</td>\n",
       "      <td>4548</td>\n",
       "      <td>4548</td>\n",
       "      <td>4548</td>\n",
       "      <td>4548</td>\n",
       "      <td>4548</td>\n",
       "      <td>4548</td>\n",
       "      <td>0.23</td>\n",
       "    </tr>\n",
       "  </tbody>\n",
       "</table>\n",
       "</div>"
      ],
      "text/plain": [
       "                                                  title  user_id  song_id  \\\n",
       "6836                                      Sehr kosmisch     8277     8277   \n",
       "8725                                               Undo     7032     7032   \n",
       "1964                     Dog Days Are Over (Radio Edit)     6949     6949   \n",
       "9496                                     You're The One     6729     6729   \n",
       "6498                                            Revelry     6145     6145   \n",
       "6825                                            Secrets     5841     5841   \n",
       "3437  Horn Concerto No. 4 in E flat K495: II. Romanc...     5385     5385   \n",
       "2595                                          Fireflies     4795     4795   \n",
       "3322                                   Hey_ Soul Sister     4758     4758   \n",
       "8494                                           Tive Sim     4548     4548   \n",
       "\n",
       "      listen_count  release  artist_name  year  percentage  \n",
       "6836          8277     8277         8277  8277        0.41  \n",
       "8725          7032     7032         7032  7032        0.35  \n",
       "1964          6949     6949         6949  6949        0.35  \n",
       "9496          6729     6729         6729  6729        0.34  \n",
       "6498          6145     6145         6145  6145        0.31  \n",
       "6825          5841     5841         5841  5841        0.29  \n",
       "3437          5385     5385         5385  5385        0.27  \n",
       "2595          4795     4795         4795  4795        0.24  \n",
       "3322          4758     4758         4758  4758        0.24  \n",
       "8494          4548     4548         4548  4548        0.23  "
      ]
     },
     "execution_count": 9,
     "metadata": {},
     "output_type": "execute_result"
    }
   ],
   "source": [
    "ten_top_songs.head(10)"
   ]
  },
  {
   "cell_type": "code",
   "execution_count": 10,
   "id": "29a55158",
   "metadata": {},
   "outputs": [],
   "source": [
    "matplotlib.rcParams.update({# Use mathtext, not LaTeX\n",
    "                            'text.usetex': False,\n",
    "                            # Use the Computer modern font\n",
    "                            'font.family': 'serif',\n",
    "                            'font.serif': 'cmr10',\n",
    "                            'mathtext.fontset': 'cm',\n",
    "                            })"
   ]
  },
  {
   "cell_type": "code",
   "execution_count": null,
   "id": "ab73efde",
   "metadata": {},
   "outputs": [],
   "source": [
    "plt.figure()\n",
    "labels = ten_top_songs['title'].tolist()\n",
    "counts = ten_top_songs['listen_count'].tolist()\n",
    "sns.barplot(x=counts, y=labels, palette='Set2')\n",
    "sns.despine(left=True, bottom=True)"
   ]
  },
  {
   "cell_type": "code",
   "execution_count": 11,
   "id": "4745ed10",
   "metadata": {},
   "outputs": [],
   "source": [
    "ten_top_artists  = songs_df.groupby(['artist_name'])['listen_count'].count().reset_index().sort_values(['listen_count', 'artist_name'], ascending = False)"
   ]
  },
  {
   "cell_type": "code",
   "execution_count": 12,
   "id": "31ad6fb3",
   "metadata": {},
   "outputs": [
    {
     "data": {
      "text/html": [
       "<div>\n",
       "<style scoped>\n",
       "    .dataframe tbody tr th:only-of-type {\n",
       "        vertical-align: middle;\n",
       "    }\n",
       "\n",
       "    .dataframe tbody tr th {\n",
       "        vertical-align: top;\n",
       "    }\n",
       "\n",
       "    .dataframe thead th {\n",
       "        text-align: right;\n",
       "    }\n",
       "</style>\n",
       "<table border=\"1\" class=\"dataframe\">\n",
       "  <thead>\n",
       "    <tr style=\"text-align: right;\">\n",
       "      <th></th>\n",
       "      <th>artist_name</th>\n",
       "      <th>listen_count</th>\n",
       "    </tr>\n",
       "  </thead>\n",
       "  <tbody>\n",
       "    <tr>\n",
       "      <th>649</th>\n",
       "      <td>Coldplay</td>\n",
       "      <td>29422</td>\n",
       "    </tr>\n",
       "    <tr>\n",
       "      <th>2850</th>\n",
       "      <td>The Black Keys</td>\n",
       "      <td>19862</td>\n",
       "    </tr>\n",
       "    <tr>\n",
       "      <th>1651</th>\n",
       "      <td>Kings Of Leon</td>\n",
       "      <td>18747</td>\n",
       "    </tr>\n",
       "    <tr>\n",
       "      <th>1107</th>\n",
       "      <td>Florence + The Machine</td>\n",
       "      <td>18112</td>\n",
       "    </tr>\n",
       "    <tr>\n",
       "      <th>1370</th>\n",
       "      <td>Jack Johnson</td>\n",
       "      <td>17801</td>\n",
       "    </tr>\n",
       "    <tr>\n",
       "      <th>2946</th>\n",
       "      <td>The Killers</td>\n",
       "      <td>16063</td>\n",
       "    </tr>\n",
       "    <tr>\n",
       "      <th>2374</th>\n",
       "      <td>Radiohead</td>\n",
       "      <td>14890</td>\n",
       "    </tr>\n",
       "    <tr>\n",
       "      <th>736</th>\n",
       "      <td>Daft Punk</td>\n",
       "      <td>14715</td>\n",
       "    </tr>\n",
       "    <tr>\n",
       "      <th>2073</th>\n",
       "      <td>Muse</td>\n",
       "      <td>14005</td>\n",
       "    </tr>\n",
       "    <tr>\n",
       "      <th>1554</th>\n",
       "      <td>Justin Bieber</td>\n",
       "      <td>13959</td>\n",
       "    </tr>\n",
       "  </tbody>\n",
       "</table>\n",
       "</div>"
      ],
      "text/plain": [
       "                 artist_name  listen_count\n",
       "649                 Coldplay         29422\n",
       "2850          The Black Keys         19862\n",
       "1651           Kings Of Leon         18747\n",
       "1107  Florence + The Machine         18112\n",
       "1370            Jack Johnson         17801\n",
       "2946             The Killers         16063\n",
       "2374               Radiohead         14890\n",
       "736                Daft Punk         14715\n",
       "2073                    Muse         14005\n",
       "1554           Justin Bieber         13959"
      ]
     },
     "execution_count": 12,
     "metadata": {},
     "output_type": "execute_result"
    }
   ],
   "source": [
    "ten_top_artists = ten_top_artists[:10]\n",
    "ten_top_artists"
   ]
  },
  {
   "cell_type": "code",
   "execution_count": 13,
   "id": "362b0090",
   "metadata": {},
   "outputs": [
    {
     "data": {
      "image/png": "[encoded data removed]",
      "text/plain": [
       "<Figure size 432x288 with 1 Axes>"
      ]
     },
     "metadata": {
      "needs_background": "light"
     },
     "output_type": "display_data"
    }
   ],
   "source": [
    "plt.figure()\n",
    "labels = ten_top_artists['artist_name'].tolist()\n",
    "counts = ten_top_artists['listen_count'].tolist()\n",
    "sns.barplot(x=counts, y=labels, palette='Set3')\n",
    "sns.despine(left=True, bottom=True)"
   ]
  },
  {
   "cell_type": "code",
   "execution_count": 14,
   "id": "f12427a2",
   "metadata": {},
   "outputs": [],
   "source": [
    "listen_counts = pd.DataFrame(songs_df.groupby('listen_count').size(), columns=['count'])"
   ]
  },
  {
   "cell_type": "code",
   "execution_count": 15,
   "id": "6a9691f6",
   "metadata": {},
   "outputs": [
    {
     "data": {
      "text/plain": [
       "2213"
      ]
     },
     "execution_count": 15,
     "metadata": {},
     "output_type": "execute_result"
    }
   ],
   "source": [
    "# Numero massimo di ascolti ripetuti per una canzone da un singolo utente\n",
    "repeated_listens = listen_counts.reset_index(drop=False)['listen_count'].iloc[-1]\n",
    "repeated_listens"
   ]
  },
  {
   "cell_type": "code",
   "execution_count": 16,
   "id": "7d384c6c",
   "metadata": {},
   "outputs": [
    {
     "data": {
      "text/plain": [
       "3.0454845"
      ]
     },
     "execution_count": 16,
     "metadata": {},
     "output_type": "execute_result"
    }
   ],
   "source": [
    "# Numero medio di volte in cui un utente ascolta la stessa canzone\n",
    "user_mean = songs_df['listen_count'].mean()\n",
    "user_mean"
   ]
  },
  {
   "cell_type": "code",
   "execution_count": 17,
   "id": "d79a2dff",
   "metadata": {},
   "outputs": [
    {
     "data": {
      "text/html": [
       "<div>\n",
       "<style scoped>\n",
       "    .dataframe tbody tr th:only-of-type {\n",
       "        vertical-align: middle;\n",
       "    }\n",
       "\n",
       "    .dataframe tbody tr th {\n",
       "        vertical-align: top;\n",
       "    }\n",
       "\n",
       "    .dataframe thead th {\n",
       "        text-align: right;\n",
       "    }\n",
       "</style>\n",
       "<table border=\"1\" class=\"dataframe\">\n",
       "  <thead>\n",
       "    <tr style=\"text-align: right;\">\n",
       "      <th></th>\n",
       "      <th>listen_count</th>\n",
       "      <th>count</th>\n",
       "    </tr>\n",
       "  </thead>\n",
       "  <tbody>\n",
       "    <tr>\n",
       "      <th>0</th>\n",
       "      <td>1</td>\n",
       "      <td>1138433</td>\n",
       "    </tr>\n",
       "    <tr>\n",
       "      <th>1</th>\n",
       "      <td>2</td>\n",
       "      <td>313043</td>\n",
       "    </tr>\n",
       "    <tr>\n",
       "      <th>2</th>\n",
       "      <td>3</td>\n",
       "      <td>142933</td>\n",
       "    </tr>\n",
       "    <tr>\n",
       "      <th>3</th>\n",
       "      <td>4</td>\n",
       "      <td>82569</td>\n",
       "    </tr>\n",
       "    <tr>\n",
       "      <th>4</th>\n",
       "      <td>5</td>\n",
       "      <td>93136</td>\n",
       "    </tr>\n",
       "    <tr>\n",
       "      <th>...</th>\n",
       "      <td>...</td>\n",
       "      <td>...</td>\n",
       "    </tr>\n",
       "    <tr>\n",
       "      <th>73</th>\n",
       "      <td>74</td>\n",
       "      <td>64</td>\n",
       "    </tr>\n",
       "    <tr>\n",
       "      <th>74</th>\n",
       "      <td>75</td>\n",
       "      <td>67</td>\n",
       "    </tr>\n",
       "    <tr>\n",
       "      <th>75</th>\n",
       "      <td>76</td>\n",
       "      <td>55</td>\n",
       "    </tr>\n",
       "    <tr>\n",
       "      <th>76</th>\n",
       "      <td>77</td>\n",
       "      <td>60</td>\n",
       "    </tr>\n",
       "    <tr>\n",
       "      <th>77</th>\n",
       "      <td>80</td>\n",
       "      <td>55</td>\n",
       "    </tr>\n",
       "  </tbody>\n",
       "</table>\n",
       "<p>78 rows × 2 columns</p>\n",
       "</div>"
      ],
      "text/plain": [
       "    listen_count    count\n",
       "0              1  1138433\n",
       "1              2   313043\n",
       "2              3   142933\n",
       "3              4    82569\n",
       "4              5    93136\n",
       "..           ...      ...\n",
       "73            74       64\n",
       "74            75       67\n",
       "75            76       55\n",
       "76            77       60\n",
       "77            80       55\n",
       "\n",
       "[78 rows x 2 columns]"
      ]
     },
     "execution_count": 17,
     "metadata": {},
     "output_type": "execute_result"
    }
   ],
   "source": [
    "# Numero di volte in cui un utente ascolta la stessa canzone\n",
    "listen_counts_reap = listen_counts[listen_counts['count'] > 50].reset_index(drop=False)\n",
    "listen_counts_reap"
   ]
  },
  {
   "cell_type": "code",
   "execution_count": 18,
   "id": "260ed53f",
   "metadata": {
    "scrolled": false
   },
   "outputs": [
    {
     "data": {
      "image/png": "[encoded data removed]",
      "text/plain": [
       "<Figure size 1152x576 with 1 Axes>"
      ]
     },
     "metadata": {
      "needs_background": "light"
     },
     "output_type": "display_data"
    }
   ],
   "source": [
    "plt.figure(figsize=(16, 8))\n",
    "sns.barplot(x='listen_count', y='count', palette='Set2', data=listen_counts_reap )\n",
    "plt.gca().spines['top'].set_visible(False)\n",
    "plt.gca().spines['right'].set_visible(False)\n",
    "plt.show();"
   ]
  },
  {
   "cell_type": "code",
   "execution_count": 19,
   "id": "52a6a959",
   "metadata": {
    "scrolled": true
   },
   "outputs": [
    {
     "data": {
      "text/plain": [
       "user_id\n",
       "00003a4459f33b92906be11abe0e93efc423c0ff     7\n",
       "00005c6177188f12fb5e2e82cdbd93e8a3f35e64     5\n",
       "00030033e3a2f904a48ec1dd53019c9969b6ef1f     9\n",
       "0007235c769e610e3d339a17818a5708e41008d9    10\n",
       "0007c0e74728ca9ef0fe4eb7f75732e8026a278b     9\n",
       "                                            ..\n",
       "fffce9c1537fbc350ea68823d956eaa8f5236dbe    44\n",
       "fffd6a2bdef646ce9898b628d5dd56c43df69a9d    11\n",
       "fffd9635b33f412de8ed02e44e6564e3644cf3c6    17\n",
       "fffe6d1d8500f1c1f31bd63abce35c0f975a86bf     7\n",
       "fffea3d509760c984e7d40789804c0e5e289cc86    23\n",
       "Name: song_id, Length: 76353, dtype: int64"
      ]
     },
     "execution_count": 19,
     "metadata": {},
     "output_type": "execute_result"
    }
   ],
   "source": [
    "# Numero di utenti per canzone\n",
    "user_per_song = songs_df.groupby('user_id')['song_id'].count()\n",
    "user_per_song"
   ]
  },
  {
   "cell_type": "code",
   "execution_count": 20,
   "id": "03acc1ec",
   "metadata": {
    "scrolled": false
   },
   "outputs": [
    {
     "name": "stderr",
     "output_type": "stream",
     "text": [
      "C:\\Users\\Giuse\\anaconda3\\lib\\site-packages\\seaborn\\distributions.py:2619: FutureWarning: `distplot` is a deprecated function and will be removed in a future version. Please adapt your code to use either `displot` (a figure-level function with similar flexibility) or `histplot` (an axes-level function for histograms).\n",
      "  warnings.warn(msg, FutureWarning)\n"
     ]
    },
    {
     "data": {
      "image/png": "[encoded data removed]",
      "text/plain": [
       "<Figure size 1152x576 with 1 Axes>"
      ]
     },
     "metadata": {
      "needs_background": "light"
     },
     "output_type": "display_data"
    }
   ],
   "source": [
    "plt.figure(figsize=(16, 8))\n",
    "sns.distplot(user_per_song.values, color='blue')\n",
    "plt.gca().spines['top'].set_visible(False)\n",
    "plt.gca().spines['right'].set_visible(False)\n",
    "plt.show();"
   ]
  },
  {
   "cell_type": "code",
   "execution_count": 27,
   "id": "9452f5e3",
   "metadata": {},
   "outputs": [
    {
     "data": {
      "text/plain": [
       "song_id\n",
       "SOAAAGQ12A8C1420C8     66\n",
       "SOAACPJ12A81C21360    147\n",
       "SOAACSG12AB018DC80     67\n",
       "SOAAEJI12AB0188AB5     62\n",
       "SOAAFAC12A67ADF7EB    190\n",
       "                     ... \n",
       "SOZZTNF12A8C139916    270\n",
       "SOZZVWB12AB0189C30    138\n",
       "SOZZWZV12A67AE140F    119\n",
       "SOZZYAO12A6701FF36     76\n",
       "SOZZZPV12A8C1444B5     71\n",
       "Name: user_id, Length: 10000, dtype: int64"
      ]
     },
     "execution_count": 27,
     "metadata": {},
     "output_type": "execute_result"
    }
   ],
   "source": [
    "# Numero di canzoni per utente\n",
    "song_per_user = songs_df.groupby('song_id')['user_id'].count()\n",
    "song_per_user"
   ]
  },
  {
   "cell_type": "code",
   "execution_count": 28,
   "id": "e7ba7342",
   "metadata": {},
   "outputs": [
    {
     "name": "stdout",
     "output_type": "stream",
     "text": [
      "Average listens = 200.0\n",
      "Min listen = 48\n",
      "Max listens = 8277\n"
     ]
    }
   ],
   "source": [
    "# Valore medio, max e min di canzoni ascoltate per utente\n",
    "listens_mean = np.mean(song_per_user)  \n",
    "listens_min = np.min(song_per_user)\n",
    "listens_max = np.max(song_per_user)\n",
    "print(f'Average listens = {listens_mean}')\n",
    "print(f'Min listen = {listens_min}')\n",
    "print(f'Max listens = {listens_max}')"
   ]
  },
  {
   "cell_type": "code",
   "execution_count": 29,
   "id": "04f2bfbf",
   "metadata": {},
   "outputs": [
    {
     "name": "stderr",
     "output_type": "stream",
     "text": [
      "C:\\Users\\Giuse\\anaconda3\\lib\\site-packages\\seaborn\\distributions.py:2619: FutureWarning: `distplot` is a deprecated function and will be removed in a future version. Please adapt your code to use either `displot` (a figure-level function with similar flexibility) or `histplot` (an axes-level function for histograms).\n",
      "  warnings.warn(msg, FutureWarning)\n"
     ]
    },
    {
     "data": {
      "image/png": "[encoded data removed]",
      "text/plain": [
       "<Figure size 1152x576 with 1 Axes>"
      ]
     },
     "metadata": {
      "needs_background": "light"
     },
     "output_type": "display_data"
    }
   ],
   "source": [
    "plt.figure(figsize=(16, 8))\n",
    "sns.distplot(song_per_user.values, color='blue')\n",
    "plt.gca().spines['top'].set_visible(False)\n",
    "plt.gca().spines['right'].set_visible(False)\n",
    "plt.show();"
   ]
  },
  {
   "cell_type": "code",
   "execution_count": null,
   "id": "a3528727",
   "metadata": {},
   "outputs": [],
   "source": []
  }
 ],
 "metadata": {
  "kernelspec": {
   "display_name": "Python 3 (ipykernel)",
   "language": "python",
   "name": "python3"
  },
  "language_info": {
   "codemirror_mode": {
    "name": "ipython",
    "version": 3
   },
   "file_extension": ".py",
   "mimetype": "text/x-python",
   "name": "python",
   "nbconvert_exporter": "python",
   "pygments_lexer": "ipython3",
   "version": "3.9.7"
  }
 },
 "nbformat": 4,
 "nbformat_minor": 5
}
